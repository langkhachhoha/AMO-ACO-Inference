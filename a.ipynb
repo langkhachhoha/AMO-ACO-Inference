{
 "cells": [
  {
   "cell_type": "code",
   "execution_count": 73,
   "metadata": {},
   "outputs": [],
   "source": [
    "from Model.Gen_CVRPTW_data import *\n",
    "from Model.Config import *\n",
    "cfg = Data_100()\n",
    "data = generate_cvrptw_data(cfg)[0]\n",
    "\n",
    "\n",
    "    \n",
    "\n"
   ]
  },
  {
   "cell_type": "code",
   "execution_count": 74,
   "metadata": {},
   "outputs": [
    {
     "data": {
      "text/plain": [
       "torch.Size([100])"
      ]
     },
     "execution_count": 74,
     "metadata": {},
     "output_type": "execute_result"
    }
   ],
   "source": [
    "data.durations.shape "
   ]
  },
  {
   "cell_type": "code",
   "execution_count": 75,
   "metadata": {},
   "outputs": [],
   "source": [
    "capacity = int(data.capacity.item())\n",
    "line1 = '\\n' + 'VEHICLE' + '\\n' + 'NUMBER' + '     ' + 'CAPACITY' + '\\n' + '25' + '     ' + str(capacity) + '\\n' + '\\n'\n",
    "line2 = 'CUSTOMER' + '\\n' + 'CUST NO.' + '     ' + 'XCOORD.' + '     ' + 'YCOORD.' + '     ' + 'DEMAND' + '     ' + 'READY TIME' + '     ' + 'DUE DATE' + '     ' + 'SERVICE TIME' + '\\n' + '\\n'\n",
    "cus_info = []\n",
    "for idx in range(101):\n",
    "    if idx == 0:\n",
    "        info = '    ' + str(idx) + '    ' + str(int(data.depot_loc[0].item())) + '    ' + str(int(data.depot_loc[1].item())) + '    ' + '0' + '    ' + str(int(data.depot_tw[0].item())) + '    ' + str(int(data.depot_tw[1].item())) + '    ' + '0' + '\\n'\n",
    "    else:\n",
    "        info = '    ' + str(idx) + '    ' + str(int(data.node_loc[idx-1][0].item())) + '    ' + str(int(data.node_loc[idx-1][1].item())) + '    ' + str(int(data.demand[idx-1].item())) + '    ' + str(int(data.node_tw[idx-1][0].item())) + '    ' + str(int(data.node_tw[idx-1][1].item())) + '    ' + str(int(data.durations[idx-1].item())) + '\\n'\n",
    "    cus_info.append(info)\n",
    "\n"
   ]
  },
  {
   "cell_type": "code",
   "execution_count": 76,
   "metadata": {},
   "outputs": [],
   "source": [
    "idx = \n",
    "with open('data_gen/gen{}.txt'.format(idx), 'w') as f:\n",
    "    f.write('Gen{}'.format(idx) + '\\n')\n",
    "    f.write(line1)\n",
    "    f.write(line2)\n",
    "    for info in cus_info:\n",
    "        f.write(info)\n",
    "    f.close()"
   ]
  }
 ],
 "metadata": {
  "kernelspec": {
   "display_name": "base",
   "language": "python",
   "name": "python3"
  },
  "language_info": {
   "codemirror_mode": {
    "name": "ipython",
    "version": 3
   },
   "file_extension": ".py",
   "mimetype": "text/x-python",
   "name": "python",
   "nbconvert_exporter": "python",
   "pygments_lexer": "ipython3",
   "version": "3.11.5"
  },
  "orig_nbformat": 4
 },
 "nbformat": 4,
 "nbformat_minor": 2
}
