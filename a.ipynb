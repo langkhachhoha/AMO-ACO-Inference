{
 "cells": [
  {
   "cell_type": "code",
   "execution_count": 11,
   "metadata": {},
   "outputs": [
    {
     "name": "stdout",
     "output_type": "stream",
     "text": [
      "['C104', 'Vehicle: 10', 'Distance: 840.9726494532312', 'C105', 'Vehicle: 10', 'Distance: 828.9368669428337', 'C108', 'Vehicle: 10', 'Distance: 828.9368669428337', 'C109', 'Vehicle: 10', 'Distance: 828.9368669428337', 'C204', 'Vehicle: 4', 'Distance: 654.4723978301645', 'C205', 'Vehicle: 3', 'Distance: 588.8759626534237', 'C206', 'Vehicle: 3', 'Distance: 588.4928487625538', 'C208', 'Vehicle: 3', 'Distance: 588.323800657399', 'R101', 'Vehicle: 20', 'Distance: 1699.3731996895142', 'R102', 'Vehicle: 18', 'Distance: 1513.707766125372', 'R103', 'Vehicle: 15', 'Distance: 1316.1827836624811', 'R112', 'Vehicle: 10', 'Distance: 1083.181862791438', 'R201 (*)', 'Vehicle: 7', 'Distance: 1299.1821837490018', 'R202', 'Vehicle: 7', 'Distance: 1127.724584369745', 'R203', 'Vehicle: 7', 'Distance: 941.6610008123448', 'R207', 'Vehicle: 4', 'Distance: 912.9194751645603', 'RC104', 'Vehicle: 12', 'Distance: 1218.2617340126917', 'RC105', 'Vehicle: 17', 'Distance: 1638.2163029734827', 'RC106', 'Vehicle: 14', 'Distance: 1470.9573756539687', 'RC108', 'Vehicle: 11', 'Distance: 1219.8892262606726', 'RC204', 'Vehicle: 5', 'Distance: 936.2016858364298', 'RC205', 'Vehicle: 7', 'Distance: 1277.7186318481595', 'RC207', 'Vehicle: 6', 'Distance: 1018.3232581889124', 'RC208', 'Vehicle: 4', 'Distance: 837.9265978573875', 'r1_2_2', 'Vehicle: 25', 'Distance: 4476.580066140221', 'rc1_2_4', 'Vehicle: 19', 'Distance: 3209.7743368207002', 'rc1_2_5', 'Vehicle: 22', 'Distance: 3765.7578935114757', 'r1_2_3', 'Vehicle: 23', 'Distance: 3913.737131587535', 'r1_2_1', 'Vehicle: 29', 'Distance: 5245.189435741546', 'rc1_2_7', 'Vehicle: 20', 'Distance: 3813.480163669064', 'r1_2_10', 'Vehicle: 22', 'Distance: 3838.202390356621', 'rc1_2_6', 'Vehicle: 21', 'Distance: 3823.5713952423034', 'c1_2_9', 'Vehicle: 21', 'Distance: 2878.187373347042', 'c1_2_8', 'Vehicle: 20', 'Distance: 2873.934431503969', 'c1_2_6', 'Vehicle: 22', 'Distance: 3107.114919146341', 'c1_2_7', 'Vehicle: 22', 'Distance: 3146.423220404039', 'rc2_2_7', 'Vehicle: 10', 'Distance: 3149.1485632434983', 'r2_2_1', 'Vehicle: 19', 'Distance: 4374.654370314327', 'rc2_2_6', 'Vehicle: 10', 'Distance: 2839.332525635716', 'rc2_2_4', 'Vehicle: 11', 'Distance: 2231.7948239358634', 'r2_2_2', 'Vehicle: 17', 'Distance: 3648.7743829102656', 'r2_2_3', 'Vehicle: 15', 'Distance: 3282.729053941776', 'rc2_2_5', 'Vehicle: 13', 'Distance: 3025.2639049960926', 'r2_2_7', 'Vehicle: 11', 'Distance: 2827.8356746088766', 'c2_2_9', 'Vehicle: 11', 'Distance: 2301.2357138236384', 'c2_2_10', 'Vehicle: 11', 'Distance: 2182.329675977689', 'c2_2_8', 'Vehicle: 10', 'Distance: 2244.974704803747', 'c2_2_5', 'Vehicle: 10', 'Distance: 2233.379631393832', 'r2_4_7', 'Vehicle: 24', 'Distance: 6957.190902409132', 'rc2_4_1', 'Vehicle: 30', 'Distance: 8137.747447830304', 'r2_4_6', 'Vehicle: 26', 'Distance: 7815.035293065382', 'c2_4_9', 'Vehicle: 24', 'Distance: 5543.677510637931', 'r2_4_4', 'Vehicle: 17', 'Distance: 5857.047779995252', 'c2_4_10', 'Vehicle: 20', 'Distance: 4990.245425550227', 'rc2_4_2', 'Vehicle: 28', 'Distance: 7515.396962773955', 'rc2_4_3', 'Vehicle: 22', 'Distance: 6334.445875630881', 'r2_4_5', 'Vehicle: 30', 'Distance: 8823.348602298729', 'c2_4_8', 'Vehicle: 21', 'Distance: 5402.11867689377', 'rc2_4_7', 'Vehicle: 24', 'Distance: 6885.643604526216', 'c2_4_3', 'Vehicle: 24', 'Distance: 5186.255402900273', 'r1_4_10', 'Vehicle: 46', 'Distance: 10116.257609009206', 'rc1_4_2', 'Vehicle: 45', 'Distance: 9819.714717793371', 'r1_4_4', 'Vehicle: 39', 'Distance: 8868.517114110931', 'c1_4_9', 'Vehicle: 46', 'Distance: 8951.422126663012', 'c1_4_8', 'Vehicle: 45', 'Distance: 9049.477737026627', 'r1_4_5', 'Vehicle: 55', 'Distance: 11438.807151529529', 'rc1_4_3', 'Vehicle: 39', 'Distance: 8743.938637766705', 'rc1_4_1', 'Vehicle: 46', 'Distance: 10372.922384360436', 'r1_4_7', 'Vehicle: 41', 'Distance: 9059.781802089175', 'rc1_4_4', 'Vehicle: 39', 'Distance: 8513.877766696318', 'c1_4_1', 'Vehicle: 49', 'Distance: 9590.938972296983', 'c1_4_3', 'Vehicle: 45', 'Distance: 8904.014923143974']\n"
     ]
    }
   ],
   "source": [
    "with open('Solution.txt', 'r') as f:\n",
    "    l = f.readlines()\n",
    "lst = []\n",
    "for id, i in enumerate(l):\n",
    "    if i[0] in ['R', 'C', 'r', 'c'] and i[1] != 'o':\n",
    "        lst.append(i.strip())\n",
    "    if i.startswith('Vehicle') or i.startswith('Distance'):\n",
    "        lst.append(i.strip())\n",
    "\n",
    "print(lst) \n",
    "with open('So_sanh.txt', 'a') as f:\n",
    "    for j in range(0, len(lst), 3):\n",
    "        f.write(lst[j] + ' ' + lst[j+1] + ' ' + lst[j+2] + '\\n')\n",
    "\n",
    "\n",
    "    \n",
    "\n"
   ]
  },
  {
   "cell_type": "code",
   "execution_count": 7,
   "metadata": {},
   "outputs": [
    {
     "data": {
      "text/plain": [
       "72.0"
      ]
     },
     "execution_count": 7,
     "metadata": {},
     "output_type": "execute_result"
    }
   ],
   "source": [
    "216 / 3\n"
   ]
  },
  {
   "cell_type": "code",
   "execution_count": null,
   "metadata": {},
   "outputs": [],
   "source": []
  }
 ],
 "metadata": {
  "kernelspec": {
   "display_name": "base",
   "language": "python",
   "name": "python3"
  },
  "language_info": {
   "codemirror_mode": {
    "name": "ipython",
    "version": 3
   },
   "file_extension": ".py",
   "mimetype": "text/x-python",
   "name": "python",
   "nbconvert_exporter": "python",
   "pygments_lexer": "ipython3",
   "version": "3.11.5"
  },
  "orig_nbformat": 4
 },
 "nbformat": 4,
 "nbformat_minor": 2
}
