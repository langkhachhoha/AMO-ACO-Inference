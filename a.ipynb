{
 "cells": [
  {
   "cell_type": "code",
   "execution_count": 1,
   "metadata": {},
   "outputs": [],
   "source": [
    "link_dir = 'POMO-MT.txt'\n",
    "link_dir = 'POMO.txt' \n",
    "idx = 0 \n",
    "\n",
    "\n",
    "with open(link_dir, 'r') as f:\n",
    "    lines = f.readlines()\n",
    "lines = [line.strip() for line in lines]\n",
    "lines.append('')\n",
    "lines \n",
    "data_idx = []\n",
    "for id, l in enumerate(lines):\n",
    "    if not l.startswith('Ro') and not l == '':\n",
    "        pair = []\n",
    "        pair.append(id)\n",
    "    if l == '':\n",
    "        pair.append(id-1)\n",
    "        data_idx.append(pair)\n",
    "        "
   ]
  },
  {
   "cell_type": "code",
   "execution_count": 2,
   "metadata": {},
   "outputs": [],
   "source": [
    "\n",
    "pair = data_idx[idx]\n",
    "ants_route = {} \n",
    "cnt = 0\n",
    "for id in range(pair[0], pair[1]+1):\n",
    "    if id == pair[0]:\n",
    "        name = lines[id]\n",
    "        if name[-1] == ':':\n",
    "            name = name[:-1]\n",
    "        name += '.txt'\n",
    "    else:\n",
    "        data = lines[id].split(' ')[2:]\n",
    "        data_lst = []\n",
    "        data_lst.append(1)\n",
    "        for d in data:\n",
    "            data_lst.append(int(d)+1)\n",
    "        data_lst.append(1) \n",
    "        ants_route[cnt] = data_lst\n",
    "        cnt += 1 \n",
    "        \n",
    "\n",
    "         "
   ]
  },
  {
   "cell_type": "code",
   "execution_count": 3,
   "metadata": {},
   "outputs": [],
   "source": [
    "import numpy as np\n",
    "import torch \n",
    "\n",
    "with open('Data.txt', 'w') as outfile:\n",
    "    file_path = 'txt/' + name \n",
    "    with open(file_path) as infile:\n",
    "        for line in infile:\n",
    "            outfile.write(line)\n",
    "\n",
    "    \n"
   ]
  },
  {
   "cell_type": "code",
   "execution_count": 4,
   "metadata": {},
   "outputs": [
    {
     "name": "stdout",
     "output_type": "stream",
     "text": [
      "100\n"
     ]
    }
   ],
   "source": [
    "import torch\n",
    "from torch.distributions import Categorical\n",
    "import random\n",
    "import itertools\n",
    "import numpy as np\n",
    "import copy\n",
    "import torch\n",
    "from torch import nn\n",
    "from torch.nn import functional as F\n",
    "from copy import deepcopy\n",
    "import math \n",
    "import numpy as np\n",
    "from Model.Config import *\n",
    "from Model.AMO import * \n",
    "from Ant_k_starts import *\n",
    "from Normalize_data import *\n",
    "from Ant import *\n",
    "from Injection import *\n",
    "from Cross_Exchange import *\n",
    "from Local_search import * \n",
    "from Draw import *"
   ]
  },
  {
   "cell_type": "code",
   "execution_count": 5,
   "metadata": {},
   "outputs": [
    {
     "name": "stdout",
     "output_type": "stream",
     "text": [
      "True\n",
      "True\n",
      "True\n",
      "True\n",
      "True\n",
      "True\n",
      "True\n",
      "True\n",
      "True\n",
      "True\n",
      "True\n",
      "True\n",
      "True\n",
      "True\n",
      "True\n",
      "True\n",
      "True\n",
      "True\n"
     ]
    }
   ],
   "source": [
    "def chan(r):\n",
    "    a = [c - 1 for c in r]\n",
    "    return a\n",
    "\n",
    "for ro in ants_route.values():\n",
    "    print(check(chan(ro))) "
   ]
  },
  {
   "cell_type": "code",
   "execution_count": 6,
   "metadata": {},
   "outputs": [],
   "source": [
    "max_cap, xcoord, ycoord, demand, e_time, l_time, s_time, data = load_data()\n",
    "heuristic_measure = torch.rand(101,101)\n",
    "CAP=max_cap\n",
    "colony=Ant(data,CAP,0.7, heuristic_measure)\n",
    "colony.customer_cord()\n",
    "colony.euclidean_distance()\n",
    "colony.width_window()\n",
    "_ = colony.path_pheromon()"
   ]
  },
  {
   "cell_type": "code",
   "execution_count": 7,
   "metadata": {},
   "outputs": [
    {
     "name": "stdout",
     "output_type": "stream",
     "text": [
      "1314.0228547133065\n",
      "1264.1188622641803\n",
      "1240.3030349628157\n",
      "1173.0472773101776\n",
      "1157.093946872166\n"
     ]
    }
   ],
   "source": [
    "for _ in range(5):\n",
    "    travel_distance, ants_route = local_search(ants_route, colony, 100, 1)\n",
    "    print(travel_distance)\n",
    "\n",
    "\n",
    "    "
   ]
  },
  {
   "cell_type": "code",
   "execution_count": 8,
   "metadata": {},
   "outputs": [],
   "source": [
    "with open('Solution.txt', 'a') as f:\n",
    "    f.write(name + '\\n')\n",
    "    f.write(\"Distance: {}\".format(travel_distance)+ '\\n')\n",
    "    f.write(\"-----------------------------------------------\"+ '\\n')"
   ]
  },
  {
   "cell_type": "code",
   "execution_count": null,
   "metadata": {},
   "outputs": [],
   "source": []
  }
 ],
 "metadata": {
  "kernelspec": {
   "display_name": "base",
   "language": "python",
   "name": "python3"
  },
  "language_info": {
   "codemirror_mode": {
    "name": "ipython",
    "version": 3
   },
   "file_extension": ".py",
   "mimetype": "text/x-python",
   "name": "python",
   "nbconvert_exporter": "python",
   "pygments_lexer": "ipython3",
   "version": "3.11.5"
  },
  "orig_nbformat": 4
 },
 "nbformat": 4,
 "nbformat_minor": 2
}
